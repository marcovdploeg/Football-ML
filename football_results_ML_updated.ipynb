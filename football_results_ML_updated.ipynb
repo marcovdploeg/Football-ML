{
 "cells": [
  {
   "cell_type": "markdown",
   "metadata": {},
   "source": [
    "### Machine learning for football results\n",
    "\n",
    "A script to try using Machine Learning to predict football match scores, by using historical data of match outcomes.\n",
    "\n",
    "I don't expect this to work all too well, given that teams constantly change, but it may work a little bit since teams do have a 'national identity' in their playstyle."
   ]
  },
  {
   "cell_type": "code",
   "execution_count": 2,
   "metadata": {
    "execution": {
     "iopub.execute_input": "2025-01-14T11:05:49.936511Z",
     "iopub.status.busy": "2025-01-14T11:05:49.936234Z",
     "iopub.status.idle": "2025-01-14T11:05:52.985548Z",
     "shell.execute_reply": "2025-01-14T11:05:52.984671Z",
     "shell.execute_reply.started": "2025-01-14T11:05:49.936484Z"
    },
    "trusted": true
   },
   "outputs": [],
   "source": [
    "import pandas as pd\n",
    "from sklearn.model_selection import train_test_split\n",
    "from sklearn.metrics import mean_absolute_error\n",
    "from sklearn.compose import ColumnTransformer\n",
    "from sklearn.preprocessing import OneHotEncoder\n",
    "from xgboost import XGBRegressor"
   ]
  },
  {
   "cell_type": "code",
   "execution_count": 3,
   "metadata": {
    "execution": {
     "iopub.execute_input": "2025-01-14T11:05:52.987029Z",
     "iopub.status.busy": "2025-01-14T11:05:52.986563Z",
     "iopub.status.idle": "2025-01-14T11:05:53.142195Z",
     "shell.execute_reply": "2025-01-14T11:05:53.141172Z",
     "shell.execute_reply.started": "2025-01-14T11:05:52.986997Z"
    },
    "trusted": true
   },
   "outputs": [
    {
     "data": {
      "text/html": [
       "<div>\n",
       "<style scoped>\n",
       "    .dataframe tbody tr th:only-of-type {\n",
       "        vertical-align: middle;\n",
       "    }\n",
       "\n",
       "    .dataframe tbody tr th {\n",
       "        vertical-align: top;\n",
       "    }\n",
       "\n",
       "    .dataframe thead th {\n",
       "        text-align: right;\n",
       "    }\n",
       "</style>\n",
       "<table border=\"1\" class=\"dataframe\">\n",
       "  <thead>\n",
       "    <tr style=\"text-align: right;\">\n",
       "      <th></th>\n",
       "      <th>date</th>\n",
       "      <th>home_team</th>\n",
       "      <th>away_team</th>\n",
       "      <th>home_score</th>\n",
       "      <th>away_score</th>\n",
       "      <th>tournament</th>\n",
       "      <th>city</th>\n",
       "      <th>country</th>\n",
       "      <th>neutral</th>\n",
       "    </tr>\n",
       "  </thead>\n",
       "  <tbody>\n",
       "    <tr>\n",
       "      <th>0</th>\n",
       "      <td>1872-11-30</td>\n",
       "      <td>Scotland</td>\n",
       "      <td>England</td>\n",
       "      <td>0</td>\n",
       "      <td>0</td>\n",
       "      <td>Friendly</td>\n",
       "      <td>Glasgow</td>\n",
       "      <td>Scotland</td>\n",
       "      <td>False</td>\n",
       "    </tr>\n",
       "    <tr>\n",
       "      <th>1</th>\n",
       "      <td>1873-03-08</td>\n",
       "      <td>England</td>\n",
       "      <td>Scotland</td>\n",
       "      <td>4</td>\n",
       "      <td>2</td>\n",
       "      <td>Friendly</td>\n",
       "      <td>London</td>\n",
       "      <td>England</td>\n",
       "      <td>False</td>\n",
       "    </tr>\n",
       "    <tr>\n",
       "      <th>2</th>\n",
       "      <td>1874-03-07</td>\n",
       "      <td>Scotland</td>\n",
       "      <td>England</td>\n",
       "      <td>2</td>\n",
       "      <td>1</td>\n",
       "      <td>Friendly</td>\n",
       "      <td>Glasgow</td>\n",
       "      <td>Scotland</td>\n",
       "      <td>False</td>\n",
       "    </tr>\n",
       "    <tr>\n",
       "      <th>3</th>\n",
       "      <td>1875-03-06</td>\n",
       "      <td>England</td>\n",
       "      <td>Scotland</td>\n",
       "      <td>2</td>\n",
       "      <td>2</td>\n",
       "      <td>Friendly</td>\n",
       "      <td>London</td>\n",
       "      <td>England</td>\n",
       "      <td>False</td>\n",
       "    </tr>\n",
       "    <tr>\n",
       "      <th>4</th>\n",
       "      <td>1876-03-04</td>\n",
       "      <td>Scotland</td>\n",
       "      <td>England</td>\n",
       "      <td>3</td>\n",
       "      <td>0</td>\n",
       "      <td>Friendly</td>\n",
       "      <td>Glasgow</td>\n",
       "      <td>Scotland</td>\n",
       "      <td>False</td>\n",
       "    </tr>\n",
       "  </tbody>\n",
       "</table>\n",
       "</div>"
      ],
      "text/plain": [
       "         date home_team away_team  home_score  away_score tournament     city  \\\n",
       "0  1872-11-30  Scotland   England           0           0   Friendly  Glasgow   \n",
       "1  1873-03-08   England  Scotland           4           2   Friendly   London   \n",
       "2  1874-03-07  Scotland   England           2           1   Friendly  Glasgow   \n",
       "3  1875-03-06   England  Scotland           2           2   Friendly   London   \n",
       "4  1876-03-04  Scotland   England           3           0   Friendly  Glasgow   \n",
       "\n",
       "    country  neutral  \n",
       "0  Scotland    False  \n",
       "1   England    False  \n",
       "2  Scotland    False  \n",
       "3   England    False  \n",
       "4  Scotland    False  "
      ]
     },
     "execution_count": 3,
     "metadata": {},
     "output_type": "execute_result"
    }
   ],
   "source": [
    "data_path = '../data/football_data/results.csv'\n",
    "data = pd.read_csv(data_path)\n",
    "data.head()"
   ]
  },
  {
   "cell_type": "markdown",
   "metadata": {},
   "source": [
    "Get training, validation and target data ready.\n",
    "\n",
    "To reduce the amount of data, we will only consider the European championship games."
   ]
  },
  {
   "cell_type": "code",
   "execution_count": 4,
   "metadata": {
    "execution": {
     "iopub.execute_input": "2025-01-14T11:05:53.146959Z",
     "iopub.status.busy": "2025-01-14T11:05:53.146684Z",
     "iopub.status.idle": "2025-01-14T11:05:53.171367Z",
     "shell.execute_reply": "2025-01-14T11:05:53.170279Z",
     "shell.execute_reply.started": "2025-01-14T11:05:53.146937Z"
    },
    "trusted": true
   },
   "outputs": [
    {
     "data": {
      "text/html": [
       "<div>\n",
       "<style scoped>\n",
       "    .dataframe tbody tr th:only-of-type {\n",
       "        vertical-align: middle;\n",
       "    }\n",
       "\n",
       "    .dataframe tbody tr th {\n",
       "        vertical-align: top;\n",
       "    }\n",
       "\n",
       "    .dataframe thead th {\n",
       "        text-align: right;\n",
       "    }\n",
       "</style>\n",
       "<table border=\"1\" class=\"dataframe\">\n",
       "  <thead>\n",
       "    <tr style=\"text-align: right;\">\n",
       "      <th></th>\n",
       "      <th>date</th>\n",
       "      <th>home_team</th>\n",
       "      <th>away_team</th>\n",
       "      <th>home_score</th>\n",
       "      <th>away_score</th>\n",
       "      <th>tournament</th>\n",
       "      <th>city</th>\n",
       "      <th>country</th>\n",
       "      <th>neutral</th>\n",
       "    </tr>\n",
       "  </thead>\n",
       "  <tbody>\n",
       "    <tr>\n",
       "      <th>4713</th>\n",
       "      <td>1958-09-28</td>\n",
       "      <td>Russia</td>\n",
       "      <td>Hungary</td>\n",
       "      <td>3</td>\n",
       "      <td>1</td>\n",
       "      <td>UEFA Euro qualification</td>\n",
       "      <td>Moscow</td>\n",
       "      <td>Soviet Union</td>\n",
       "      <td>False</td>\n",
       "    </tr>\n",
       "    <tr>\n",
       "      <th>4714</th>\n",
       "      <td>1958-10-01</td>\n",
       "      <td>France</td>\n",
       "      <td>Greece</td>\n",
       "      <td>7</td>\n",
       "      <td>1</td>\n",
       "      <td>UEFA Euro qualification</td>\n",
       "      <td>Paris</td>\n",
       "      <td>France</td>\n",
       "      <td>False</td>\n",
       "    </tr>\n",
       "    <tr>\n",
       "      <th>4741</th>\n",
       "      <td>1958-11-02</td>\n",
       "      <td>Romania</td>\n",
       "      <td>Turkey</td>\n",
       "      <td>3</td>\n",
       "      <td>0</td>\n",
       "      <td>UEFA Euro qualification</td>\n",
       "      <td>Bucharest</td>\n",
       "      <td>Romania</td>\n",
       "      <td>False</td>\n",
       "    </tr>\n",
       "    <tr>\n",
       "      <th>4748</th>\n",
       "      <td>1958-12-03</td>\n",
       "      <td>Greece</td>\n",
       "      <td>France</td>\n",
       "      <td>1</td>\n",
       "      <td>1</td>\n",
       "      <td>UEFA Euro qualification</td>\n",
       "      <td>Athens</td>\n",
       "      <td>Greece</td>\n",
       "      <td>False</td>\n",
       "    </tr>\n",
       "    <tr>\n",
       "      <th>4795</th>\n",
       "      <td>1959-04-05</td>\n",
       "      <td>Republic of Ireland</td>\n",
       "      <td>Czechoslovakia</td>\n",
       "      <td>2</td>\n",
       "      <td>0</td>\n",
       "      <td>UEFA Euro qualification</td>\n",
       "      <td>Dublin</td>\n",
       "      <td>Republic of Ireland</td>\n",
       "      <td>False</td>\n",
       "    </tr>\n",
       "  </tbody>\n",
       "</table>\n",
       "</div>"
      ],
      "text/plain": [
       "            date            home_team       away_team  home_score  away_score  \\\n",
       "4713  1958-09-28               Russia         Hungary           3           1   \n",
       "4714  1958-10-01               France          Greece           7           1   \n",
       "4741  1958-11-02              Romania          Turkey           3           0   \n",
       "4748  1958-12-03               Greece          France           1           1   \n",
       "4795  1959-04-05  Republic of Ireland  Czechoslovakia           2           0   \n",
       "\n",
       "                   tournament       city              country  neutral  \n",
       "4713  UEFA Euro qualification     Moscow         Soviet Union    False  \n",
       "4714  UEFA Euro qualification      Paris               France    False  \n",
       "4741  UEFA Euro qualification  Bucharest              Romania    False  \n",
       "4748  UEFA Euro qualification     Athens               Greece    False  \n",
       "4795  UEFA Euro qualification     Dublin  Republic of Ireland    False  "
      ]
     },
     "execution_count": 4,
     "metadata": {},
     "output_type": "execute_result"
    }
   ],
   "source": [
    "# Select tournaments to consider\n",
    "tournaments = ['UEFA Nations League', 'UEFA Euro', 'UEFA Euro qualification']\n",
    "euro_mask = data['tournament'].isin(tournaments)\n",
    "euro_data = data[euro_mask]\n",
    "euro_data.head()"
   ]
  },
  {
   "cell_type": "code",
   "execution_count": 5,
   "metadata": {
    "execution": {
     "iopub.execute_input": "2025-01-14T11:05:53.681883Z",
     "iopub.status.busy": "2025-01-14T11:05:53.681493Z",
     "iopub.status.idle": "2025-01-14T11:05:53.703669Z",
     "shell.execute_reply": "2025-01-14T11:05:53.702756Z",
     "shell.execute_reply.started": "2025-01-14T11:05:53.681852Z"
    },
    "trusted": true
   },
   "outputs": [
    {
     "name": "stderr",
     "output_type": "stream",
     "text": [
      "C:\\Users\\Marco van der Ploeg\\AppData\\Local\\Temp\\ipykernel_24432\\2004956549.py:2: SettingWithCopyWarning: \n",
      "A value is trying to be set on a copy of a slice from a DataFrame.\n",
      "Try using .loc[row_indexer,col_indexer] = value instead\n",
      "\n",
      "See the caveats in the documentation: https://pandas.pydata.org/pandas-docs/stable/user_guide/indexing.html#returning-a-view-versus-a-copy\n",
      "  euro_data['date'] = pd.to_datetime(euro_data['date']).dt.year\n",
      "C:\\Users\\Marco van der Ploeg\\AppData\\Local\\Temp\\ipykernel_24432\\2004956549.py:3: SettingWithCopyWarning: \n",
      "A value is trying to be set on a copy of a slice from a DataFrame\n",
      "\n",
      "See the caveats in the documentation: https://pandas.pydata.org/pandas-docs/stable/user_guide/indexing.html#returning-a-view-versus-a-copy\n",
      "  euro_data.rename(columns={'date': 'year'}, inplace=True)\n",
      "C:\\Users\\Marco van der Ploeg\\AppData\\Local\\Temp\\ipykernel_24432\\2004956549.py:4: SettingWithCopyWarning: \n",
      "A value is trying to be set on a copy of a slice from a DataFrame.\n",
      "Try using .loc[row_indexer,col_indexer] = value instead\n",
      "\n",
      "See the caveats in the documentation: https://pandas.pydata.org/pandas-docs/stable/user_guide/indexing.html#returning-a-view-versus-a-copy\n",
      "  euro_data['neutral'] = euro_data['neutral'].astype(int)\n"
     ]
    },
    {
     "data": {
      "text/html": [
       "<div>\n",
       "<style scoped>\n",
       "    .dataframe tbody tr th:only-of-type {\n",
       "        vertical-align: middle;\n",
       "    }\n",
       "\n",
       "    .dataframe tbody tr th {\n",
       "        vertical-align: top;\n",
       "    }\n",
       "\n",
       "    .dataframe thead th {\n",
       "        text-align: right;\n",
       "    }\n",
       "</style>\n",
       "<table border=\"1\" class=\"dataframe\">\n",
       "  <thead>\n",
       "    <tr style=\"text-align: right;\">\n",
       "      <th></th>\n",
       "      <th>year</th>\n",
       "      <th>home_team</th>\n",
       "      <th>away_team</th>\n",
       "      <th>home_score</th>\n",
       "      <th>away_score</th>\n",
       "      <th>tournament</th>\n",
       "      <th>city</th>\n",
       "      <th>country</th>\n",
       "      <th>neutral</th>\n",
       "    </tr>\n",
       "  </thead>\n",
       "  <tbody>\n",
       "    <tr>\n",
       "      <th>4713</th>\n",
       "      <td>1958</td>\n",
       "      <td>Russia</td>\n",
       "      <td>Hungary</td>\n",
       "      <td>3</td>\n",
       "      <td>1</td>\n",
       "      <td>UEFA Euro qualification</td>\n",
       "      <td>Moscow</td>\n",
       "      <td>Soviet Union</td>\n",
       "      <td>0</td>\n",
       "    </tr>\n",
       "    <tr>\n",
       "      <th>4714</th>\n",
       "      <td>1958</td>\n",
       "      <td>France</td>\n",
       "      <td>Greece</td>\n",
       "      <td>7</td>\n",
       "      <td>1</td>\n",
       "      <td>UEFA Euro qualification</td>\n",
       "      <td>Paris</td>\n",
       "      <td>France</td>\n",
       "      <td>0</td>\n",
       "    </tr>\n",
       "    <tr>\n",
       "      <th>4741</th>\n",
       "      <td>1958</td>\n",
       "      <td>Romania</td>\n",
       "      <td>Turkey</td>\n",
       "      <td>3</td>\n",
       "      <td>0</td>\n",
       "      <td>UEFA Euro qualification</td>\n",
       "      <td>Bucharest</td>\n",
       "      <td>Romania</td>\n",
       "      <td>0</td>\n",
       "    </tr>\n",
       "    <tr>\n",
       "      <th>4748</th>\n",
       "      <td>1958</td>\n",
       "      <td>Greece</td>\n",
       "      <td>France</td>\n",
       "      <td>1</td>\n",
       "      <td>1</td>\n",
       "      <td>UEFA Euro qualification</td>\n",
       "      <td>Athens</td>\n",
       "      <td>Greece</td>\n",
       "      <td>0</td>\n",
       "    </tr>\n",
       "    <tr>\n",
       "      <th>4795</th>\n",
       "      <td>1959</td>\n",
       "      <td>Republic of Ireland</td>\n",
       "      <td>Czechoslovakia</td>\n",
       "      <td>2</td>\n",
       "      <td>0</td>\n",
       "      <td>UEFA Euro qualification</td>\n",
       "      <td>Dublin</td>\n",
       "      <td>Republic of Ireland</td>\n",
       "      <td>0</td>\n",
       "    </tr>\n",
       "  </tbody>\n",
       "</table>\n",
       "</div>"
      ],
      "text/plain": [
       "      year            home_team       away_team  home_score  away_score  \\\n",
       "4713  1958               Russia         Hungary           3           1   \n",
       "4714  1958               France          Greece           7           1   \n",
       "4741  1958              Romania          Turkey           3           0   \n",
       "4748  1958               Greece          France           1           1   \n",
       "4795  1959  Republic of Ireland  Czechoslovakia           2           0   \n",
       "\n",
       "                   tournament       city              country  neutral  \n",
       "4713  UEFA Euro qualification     Moscow         Soviet Union        0  \n",
       "4714  UEFA Euro qualification      Paris               France        0  \n",
       "4741  UEFA Euro qualification  Bucharest              Romania        0  \n",
       "4748  UEFA Euro qualification     Athens               Greece        0  \n",
       "4795  UEFA Euro qualification     Dublin  Republic of Ireland        0  "
      ]
     },
     "execution_count": 5,
     "metadata": {},
     "output_type": "execute_result"
    }
   ],
   "source": [
    "# Some preprocessing: convert the date to just the year; also make neutral from True/False to 1/0\n",
    "euro_data['date'] = pd.to_datetime(euro_data['date']).dt.year\n",
    "euro_data.rename(columns={'date': 'year'}, inplace=True)\n",
    "euro_data['neutral'] = euro_data['neutral'].astype(int)\n",
    "euro_data.head()"
   ]
  },
  {
   "cell_type": "code",
   "execution_count": 6,
   "metadata": {
    "execution": {
     "iopub.execute_input": "2025-01-14T11:06:00.615768Z",
     "iopub.status.busy": "2025-01-14T11:06:00.615417Z",
     "iopub.status.idle": "2025-01-14T11:06:00.641253Z",
     "shell.execute_reply": "2025-01-14T11:06:00.640030Z",
     "shell.execute_reply.started": "2025-01-14T11:06:00.615741Z"
    },
    "trusted": true
   },
   "outputs": [
    {
     "name": "stdout",
     "output_type": "stream",
     "text": [
      "['home_team', 'away_team', 'tournament', 'city', 'country'] ['year', 'neutral']\n"
     ]
    },
    {
     "data": {
      "text/html": [
       "<div>\n",
       "<style scoped>\n",
       "    .dataframe tbody tr th:only-of-type {\n",
       "        vertical-align: middle;\n",
       "    }\n",
       "\n",
       "    .dataframe tbody tr th {\n",
       "        vertical-align: top;\n",
       "    }\n",
       "\n",
       "    .dataframe thead th {\n",
       "        text-align: right;\n",
       "    }\n",
       "</style>\n",
       "<table border=\"1\" class=\"dataframe\">\n",
       "  <thead>\n",
       "    <tr style=\"text-align: right;\">\n",
       "      <th></th>\n",
       "      <th>home_team</th>\n",
       "      <th>away_team</th>\n",
       "      <th>tournament</th>\n",
       "      <th>city</th>\n",
       "      <th>country</th>\n",
       "      <th>year</th>\n",
       "      <th>neutral</th>\n",
       "    </tr>\n",
       "  </thead>\n",
       "  <tbody>\n",
       "    <tr>\n",
       "      <th>12029</th>\n",
       "      <td>Belgium</td>\n",
       "      <td>Scotland</td>\n",
       "      <td>UEFA Euro qualification</td>\n",
       "      <td>Brussels</td>\n",
       "      <td>Belgium</td>\n",
       "      <td>1979</td>\n",
       "      <td>0</td>\n",
       "    </tr>\n",
       "    <tr>\n",
       "      <th>35068</th>\n",
       "      <td>Georgia</td>\n",
       "      <td>Latvia</td>\n",
       "      <td>UEFA Euro qualification</td>\n",
       "      <td>Tbilisi</td>\n",
       "      <td>Georgia</td>\n",
       "      <td>2011</td>\n",
       "      <td>0</td>\n",
       "    </tr>\n",
       "    <tr>\n",
       "      <th>45260</th>\n",
       "      <td>Gibraltar</td>\n",
       "      <td>Bulgaria</td>\n",
       "      <td>UEFA Nations League</td>\n",
       "      <td>Gibraltar</td>\n",
       "      <td>Gibraltar</td>\n",
       "      <td>2022</td>\n",
       "      <td>0</td>\n",
       "    </tr>\n",
       "    <tr>\n",
       "      <th>20542</th>\n",
       "      <td>Wales</td>\n",
       "      <td>Moldova</td>\n",
       "      <td>UEFA Euro qualification</td>\n",
       "      <td>Cardiff</td>\n",
       "      <td>Wales</td>\n",
       "      <td>1995</td>\n",
       "      <td>0</td>\n",
       "    </tr>\n",
       "    <tr>\n",
       "      <th>8602</th>\n",
       "      <td>Romania</td>\n",
       "      <td>Czechoslovakia</td>\n",
       "      <td>UEFA Euro qualification</td>\n",
       "      <td>Bucharest</td>\n",
       "      <td>Romania</td>\n",
       "      <td>1971</td>\n",
       "      <td>0</td>\n",
       "    </tr>\n",
       "  </tbody>\n",
       "</table>\n",
       "</div>"
      ],
      "text/plain": [
       "       home_team       away_team               tournament       city  \\\n",
       "12029    Belgium        Scotland  UEFA Euro qualification   Brussels   \n",
       "35068    Georgia          Latvia  UEFA Euro qualification    Tbilisi   \n",
       "45260  Gibraltar        Bulgaria      UEFA Nations League  Gibraltar   \n",
       "20542      Wales         Moldova  UEFA Euro qualification    Cardiff   \n",
       "8602     Romania  Czechoslovakia  UEFA Euro qualification  Bucharest   \n",
       "\n",
       "         country  year  neutral  \n",
       "12029    Belgium  1979        0  \n",
       "35068    Georgia  2011        0  \n",
       "45260  Gibraltar  2022        0  \n",
       "20542      Wales  1995        0  \n",
       "8602     Romania  1971        0  "
      ]
     },
     "execution_count": 6,
     "metadata": {},
     "output_type": "execute_result"
    }
   ],
   "source": [
    "# So what we want to predict is the score of both the home and away team\n",
    "y = euro_data[['home_score', 'away_score']]\n",
    "# Drop those for X, use the rest\n",
    "X = euro_data.drop(['home_score', 'away_score'], axis=1)\n",
    "\n",
    "# Split the data\n",
    "X_train_full, X_valid_full, y_train, y_valid = train_test_split(X, y, train_size=0.8, test_size=0.2, random_state=42)\n",
    "\n",
    "# Select categorical columns with relatively low cardinality (arbitrary)\n",
    "categorical_cols = [cname for cname in X_train_full.columns \n",
    "                    if #X_train_full[cname].nunique() < 60 and \n",
    "                       X_train_full[cname].dtype == \"object\"]\n",
    "## turned out runtime is still fine even with these columns though\n",
    "\n",
    "# Select numerical columns (all, except selected categorical and these numerical columns, will be dropped)\n",
    "numerical_cols = [cname for cname in X_train_full.columns if \n",
    "                  X_train_full[cname].dtype in ['int64', 'float64', 'int32']]\n",
    "\n",
    "# Keep selected columns only\n",
    "my_cols = categorical_cols + numerical_cols\n",
    "X_train = X_train_full[my_cols].copy()\n",
    "X_valid = X_valid_full[my_cols].copy()\n",
    "\n",
    "print(categorical_cols, numerical_cols)\n",
    "X_train.head()"
   ]
  },
  {
   "cell_type": "markdown",
   "metadata": {},
   "source": [
    "Preprocessing: use the one-hot encoder for these strings data"
   ]
  },
  {
   "cell_type": "code",
   "execution_count": 7,
   "metadata": {
    "execution": {
     "iopub.execute_input": "2025-01-14T11:06:08.832343Z",
     "iopub.status.busy": "2025-01-14T11:06:08.832041Z",
     "iopub.status.idle": "2025-01-14T11:06:08.839811Z",
     "shell.execute_reply": "2025-01-14T11:06:08.838867Z",
     "shell.execute_reply.started": "2025-01-14T11:06:08.832320Z"
    },
    "trusted": true
   },
   "outputs": [
    {
     "name": "stdout",
     "output_type": "stream",
     "text": [
      "home_team     0\n",
      "away_team     0\n",
      "tournament    0\n",
      "city          0\n",
      "country       0\n",
      "year          0\n",
      "neutral       0\n",
      "dtype: int64\n"
     ]
    }
   ],
   "source": [
    "# Check if there are any missing values we have to impute\n",
    "missing_val_count_by_column = X_train.isnull().sum()\n",
    "print(missing_val_count_by_column)\n",
    "# Nope, so just use the one hot encoder"
   ]
  },
  {
   "cell_type": "code",
   "execution_count": 8,
   "metadata": {
    "execution": {
     "iopub.execute_input": "2025-01-14T11:06:12.557987Z",
     "iopub.status.busy": "2025-01-14T11:06:12.556947Z",
     "iopub.status.idle": "2025-01-14T11:06:12.573835Z",
     "shell.execute_reply": "2025-01-14T11:06:12.572672Z",
     "shell.execute_reply.started": "2025-01-14T11:06:12.557939Z"
    },
    "trusted": true
   },
   "outputs": [],
   "source": [
    "categorical_transformer = OneHotEncoder(handle_unknown='ignore')\n",
    "preprocessor = ColumnTransformer(\n",
    "    transformers=[\n",
    "        ('num', 'passthrough', numerical_cols),  # otherwise the numerical columns would be dropped\n",
    "        ('cat', categorical_transformer, categorical_cols)\n",
    "    ])\n",
    "\n",
    "# Do the preprocessing\n",
    "X_train_transformed = preprocessor.fit_transform(X_train)\n",
    "X_valid_transformed = preprocessor.transform(X_valid)"
   ]
  },
  {
   "cell_type": "code",
   "execution_count": 9,
   "metadata": {},
   "outputs": [
    {
     "data": {
      "text/html": [
       "<div>\n",
       "<style scoped>\n",
       "    .dataframe tbody tr th:only-of-type {\n",
       "        vertical-align: middle;\n",
       "    }\n",
       "\n",
       "    .dataframe tbody tr th {\n",
       "        vertical-align: top;\n",
       "    }\n",
       "\n",
       "    .dataframe thead th {\n",
       "        text-align: right;\n",
       "    }\n",
       "</style>\n",
       "<table border=\"1\" class=\"dataframe\">\n",
       "  <thead>\n",
       "    <tr style=\"text-align: right;\">\n",
       "      <th></th>\n",
       "      <th>year</th>\n",
       "      <th>neutral</th>\n",
       "      <th>home_team_Belgium</th>\n",
       "      <th>away_team_Scotland</th>\n",
       "      <th>tournament_UEFA Euro qualification</th>\n",
       "    </tr>\n",
       "  </thead>\n",
       "  <tbody>\n",
       "    <tr>\n",
       "      <th>0</th>\n",
       "      <td>1979.0</td>\n",
       "      <td>0.0</td>\n",
       "      <td>1.0</td>\n",
       "      <td>1.0</td>\n",
       "      <td>1.0</td>\n",
       "    </tr>\n",
       "    <tr>\n",
       "      <th>1</th>\n",
       "      <td>2011.0</td>\n",
       "      <td>0.0</td>\n",
       "      <td>0.0</td>\n",
       "      <td>0.0</td>\n",
       "      <td>1.0</td>\n",
       "    </tr>\n",
       "    <tr>\n",
       "      <th>2</th>\n",
       "      <td>2022.0</td>\n",
       "      <td>0.0</td>\n",
       "      <td>0.0</td>\n",
       "      <td>0.0</td>\n",
       "      <td>0.0</td>\n",
       "    </tr>\n",
       "    <tr>\n",
       "      <th>3</th>\n",
       "      <td>1995.0</td>\n",
       "      <td>0.0</td>\n",
       "      <td>0.0</td>\n",
       "      <td>0.0</td>\n",
       "      <td>1.0</td>\n",
       "    </tr>\n",
       "    <tr>\n",
       "      <th>4</th>\n",
       "      <td>1971.0</td>\n",
       "      <td>0.0</td>\n",
       "      <td>0.0</td>\n",
       "      <td>0.0</td>\n",
       "      <td>1.0</td>\n",
       "    </tr>\n",
       "  </tbody>\n",
       "</table>\n",
       "</div>"
      ],
      "text/plain": [
       "     year  neutral  home_team_Belgium  away_team_Scotland  \\\n",
       "0  1979.0      0.0                1.0                 1.0   \n",
       "1  2011.0      0.0                0.0                 0.0   \n",
       "2  2022.0      0.0                0.0                 0.0   \n",
       "3  1995.0      0.0                0.0                 0.0   \n",
       "4  1971.0      0.0                0.0                 0.0   \n",
       "\n",
       "   tournament_UEFA Euro qualification  \n",
       "0                                 1.0  \n",
       "1                                 1.0  \n",
       "2                                 0.0  \n",
       "3                                 1.0  \n",
       "4                                 1.0  "
      ]
     },
     "execution_count": 9,
     "metadata": {},
     "output_type": "execute_result"
    }
   ],
   "source": [
    "# Print the values to make sure it all worked\n",
    "feature_names = numerical_cols + list( preprocessor.named_transformers_['cat'].get_feature_names_out(categorical_cols) )\n",
    "X_train_transformed_df = pd.DataFrame(X_train_transformed.toarray(), columns=feature_names)\n",
    "X_valid_transformed_df = pd.DataFrame(X_valid_transformed.toarray(), columns=feature_names)\n",
    "X_train_transformed_df[[\"year\", \"neutral\", \"home_team_Belgium\", \"away_team_Scotland\", \"tournament_UEFA Euro qualification\"]].head()"
   ]
  },
  {
   "cell_type": "markdown",
   "metadata": {},
   "source": [
    "Define the model and get predictions"
   ]
  },
  {
   "cell_type": "code",
   "execution_count": 10,
   "metadata": {
    "execution": {
     "iopub.execute_input": "2025-01-14T11:06:15.023848Z",
     "iopub.status.busy": "2025-01-14T11:06:15.023483Z",
     "iopub.status.idle": "2025-01-14T11:06:16.151983Z",
     "shell.execute_reply": "2025-01-14T11:06:16.150770Z",
     "shell.execute_reply.started": "2025-01-14T11:06:15.023788Z"
    },
    "trusted": true
   },
   "outputs": [
    {
     "name": "stdout",
     "output_type": "stream",
     "text": [
      "Mean Absolute Error: 0.900\n",
      "[[1.15387   1.0556861]\n",
      " [1.4894325 1.1408753]\n",
      " [1.1495245 1.1852598]\n",
      " [1.5500809 1.0241152]\n",
      " [1.0500188 1.2662162]] \n",
      "        home_score  away_score\n",
      "21090           0           1\n",
      "13426           0           1\n",
      "10285           2           1\n",
      "20565           2           1\n",
      "28327           2           4\n"
     ]
    }
   ],
   "source": [
    "my_model = XGBRegressor(n_estimators=1000, learning_rate=0.05, n_jobs=1, \n",
    "                        early_stopping_rounds=5, random_state=42)\n",
    "my_model.fit(X_train_transformed_df, y_train,\n",
    "             eval_set=[(X_valid_transformed_df, y_valid)], \n",
    "             verbose=False)\n",
    "\n",
    "predictions = my_model.predict(X_valid_transformed_df)\n",
    "\n",
    "mae = mean_absolute_error(predictions, y_valid)\n",
    "print(f\"Mean Absolute Error: {mae:.3f}\")\n",
    "print(predictions[:5], '\\n', y_valid.head())"
   ]
  },
  {
   "cell_type": "code",
   "execution_count": 11,
   "metadata": {
    "execution": {
     "iopub.execute_input": "2025-01-14T11:06:19.441108Z",
     "iopub.status.busy": "2025-01-14T11:06:19.440762Z",
     "iopub.status.idle": "2025-01-14T11:06:19.495711Z",
     "shell.execute_reply": "2025-01-14T11:06:19.494596Z",
     "shell.execute_reply.started": "2025-01-14T11:06:19.441084Z"
    },
    "trusted": true
   },
   "outputs": [
    {
     "name": "stdout",
     "output_type": "stream",
     "text": [
      "Correct winner predictions: 443 out of 748, 59.22%\n"
     ]
    }
   ],
   "source": [
    "# See if it can get the winner right\n",
    "correct_list = []\n",
    "for i in range(len(predictions)):\n",
    "    correct = False\n",
    "    if (predictions[i][0] > predictions[i][1]) and (y_valid.iloc[i]['home_score'] > y_valid.iloc[i]['away_score']):\n",
    "        correct = True\n",
    "    elif (predictions[i][0] < predictions[i][1]) and (y_valid.iloc[i]['home_score'] < y_valid.iloc[i]['away_score']):\n",
    "        correct = True\n",
    "    elif (predictions[i][0] == predictions[i][1]) and (y_valid.iloc[i]['home_score'] == y_valid.iloc[i]['away_score']):\n",
    "        correct = True\n",
    "\n",
    "    correct_list.append(correct)\n",
    "\n",
    "print(f\"Correct winner predictions: {sum(correct_list)} out of {len(predictions)}, {sum(correct_list)/len(predictions)*100:.2f}%\")"
   ]
  },
  {
   "cell_type": "markdown",
   "metadata": {},
   "source": [
    "In the end we can say that it gets the correct winner more than half of the time correctly, so that's better than a random guess at least."
   ]
  },
  {
   "cell_type": "code",
   "execution_count": 16,
   "metadata": {
    "execution": {
     "iopub.execute_input": "2024-12-04T18:49:05.370467Z",
     "iopub.status.busy": "2024-12-04T18:49:05.370068Z",
     "iopub.status.idle": "2024-12-04T18:51:17.179967Z",
     "shell.execute_reply": "2024-12-04T18:51:17.178833Z",
     "shell.execute_reply.started": "2024-12-04T18:49:05.370433Z"
    },
    "trusted": true
   },
   "outputs": [
    {
     "name": "stdout",
     "output_type": "stream",
     "text": [
      "{'learning_rate': 0.1, 'n_estimators': 100} 0.19764468779293826\n"
     ]
    }
   ],
   "source": [
    "# Now try to optimise model hyperparameters\n",
    "from sklearn.model_selection import GridSearchCV\n",
    "import numpy as np\n",
    "\n",
    "# Parameter values to try\n",
    "parameters = {\n",
    "    \"n_estimators\": [10, 50, 100, 200, 300],  # 500, 1000, 1200 not better\n",
    "    \"learning_rate\": [0.01, 0.05, 0.1, 0.5]\n",
    "}\n",
    "\n",
    "# Model with fixed parameters\n",
    "model = XGBRegressor(n_jobs=-1, random_state=42, early_stopping_rounds=5)\n",
    "\n",
    "# Grid searcher\n",
    "model_cv = GridSearchCV(model, parameters, cv=2)\n",
    "model_cv.fit(X_train_transformed_df, y_train,\n",
    "             eval_set=[(X_valid_transformed_df, y_valid)], \n",
    "             verbose=False)\n",
    "\n",
    "# Print best parameters\n",
    "print(model_cv.best_params_, model_cv.best_score_)"
   ]
  },
  {
   "cell_type": "code",
   "execution_count": 17,
   "metadata": {
    "execution": {
     "iopub.execute_input": "2024-12-04T18:55:09.372017Z",
     "iopub.status.busy": "2024-12-04T18:55:09.371478Z",
     "iopub.status.idle": "2024-12-04T18:55:09.446979Z",
     "shell.execute_reply": "2024-12-04T18:55:09.445490Z",
     "shell.execute_reply.started": "2024-12-04T18:55:09.371966Z"
    },
    "trusted": true
   },
   "outputs": [
    {
     "name": "stdout",
     "output_type": "stream",
     "text": [
      "Correct winner predictions: 446 out of 748, 59.63%\n"
     ]
    }
   ],
   "source": [
    "best_model = model_cv.best_estimator_\n",
    "\n",
    "predictions = best_model.predict(X_valid_transformed_df)\n",
    "\n",
    "# See if it can get the winner right\n",
    "correct_list = []\n",
    "for i in range(len(predictions)):\n",
    "    correct = False\n",
    "    if (predictions[i][0] > predictions[i][1]) and (y_valid.iloc[i]['home_score'] > y_valid.iloc[i]['away_score']):\n",
    "        correct = True\n",
    "    elif (predictions[i][0] < predictions[i][1]) and (y_valid.iloc[i]['home_score'] < y_valid.iloc[i]['away_score']):\n",
    "        correct = True\n",
    "    elif (predictions[i][0] == predictions[i][1]) and (y_valid.iloc[i]['home_score'] == y_valid.iloc[i]['away_score']):\n",
    "        correct = True\n",
    "\n",
    "    correct_list.append(correct)\n",
    "\n",
    "print(f\"Correct winner predictions: {sum(correct_list)} out of {len(predictions)}, {sum(correct_list)/len(predictions)*100:.2f}%\")"
   ]
  },
  {
   "cell_type": "markdown",
   "metadata": {},
   "source": [
    "This ends up with a slightly better result, so although the individual scores aren't great, the winner prediction is better than random (although still not very good either)."
   ]
  },
  {
   "cell_type": "markdown",
   "metadata": {},
   "source": [
    "### What if instead of actual scores, we try to win just who wins in the first place?"
   ]
  },
  {
   "cell_type": "code",
   "execution_count": 18,
   "metadata": {
    "execution": {
     "iopub.execute_input": "2025-01-14T11:11:21.321449Z",
     "iopub.status.busy": "2025-01-14T11:11:21.321139Z",
     "iopub.status.idle": "2025-01-14T11:11:21.328632Z",
     "shell.execute_reply": "2025-01-14T11:11:21.327521Z",
     "shell.execute_reply.started": "2025-01-14T11:11:21.321418Z"
    },
    "trusted": true
   },
   "outputs": [
    {
     "data": {
      "text/plain": [
       "4713    1\n",
       "4714    1\n",
       "4741    1\n",
       "4748    0\n",
       "4795    1\n",
       "dtype: int32"
      ]
     },
     "execution_count": 18,
     "metadata": {},
     "output_type": "execute_result"
    }
   ],
   "source": [
    "# Then change the target variable from the individual scores to 'home_win', \n",
    "# which is 1 if the home team won, 0 otherwise\n",
    "y_win = (y[\"home_score\"]>y[\"away_score\"]).astype(int)\n",
    "y_win.head()"
   ]
  },
  {
   "cell_type": "code",
   "execution_count": 22,
   "metadata": {
    "execution": {
     "iopub.execute_input": "2025-01-14T11:23:20.745329Z",
     "iopub.status.busy": "2025-01-14T11:23:20.745044Z",
     "iopub.status.idle": "2025-01-14T11:23:21.542479Z",
     "shell.execute_reply": "2025-01-14T11:23:21.541414Z",
     "shell.execute_reply.started": "2025-01-14T11:23:20.745308Z"
    },
    "trusted": true
   },
   "outputs": [
    {
     "name": "stdout",
     "output_type": "stream",
     "text": [
      "[0.33431584 0.51182276 0.27979702 0.4551581  0.21224345]\n",
      "[0 1 0 0 0] \n",
      " 21090    0\n",
      "13426    0\n",
      "10285    1\n",
      "20565    1\n",
      "28327    0\n",
      "dtype: int32\n",
      "Fraction of instances where the model was correct: 0.68\n"
     ]
    }
   ],
   "source": [
    "# Redo some steps\n",
    "X_train_full_noUse, X_valid_full_noUse, \\\n",
    "    y_win_train, y_win_valid = train_test_split(X, y_win, train_size=0.8, test_size=0.2, random_state=42)\n",
    "\n",
    "my_model = XGBRegressor(n_estimators=1000, learning_rate=0.05, n_jobs=1, \n",
    "                        early_stopping_rounds=5, random_state=42)\n",
    "my_model.fit(X_train_transformed_df, y_win_train,\n",
    "             eval_set=[(X_valid_transformed_df, y_win_valid)], \n",
    "             verbose=False)\n",
    "\n",
    "predictions = my_model.predict(X_valid_transformed_df)\n",
    "print(predictions[:5])\n",
    "\n",
    "threshold = 0.5\n",
    "binary_pred = (predictions >= threshold).astype(int)\n",
    "print(binary_pred[:5], '\\n', y_win_valid.head())\n",
    "\n",
    "# If the difference between the predicted value and the real one is 0, the prediction is correct\n",
    "difference = y_win_valid.values - binary_pred\n",
    "corrects = difference == 0\n",
    "correct_frac = sum(corrects)/len(corrects)\n",
    "print(\"Fraction of instances where the model was correct:\", round(correct_frac, 2))"
   ]
  },
  {
   "cell_type": "markdown",
   "metadata": {},
   "source": [
    "We see here the correct winner is chosen 68% of the time, which is pretty decent actually. At least a lot better than predicting actual scores."
   ]
  }
 ],
 "metadata": {
  "kaggle": {
   "accelerator": "none",
   "dataSources": [
    {
     "databundleVersionId": 10898664,
     "datasetId": 4305,
     "sourceId": 10564975,
     "sourceType": "datasetVersion"
    }
   ],
   "dockerImageVersionId": 30775,
   "isGpuEnabled": false,
   "isInternetEnabled": false,
   "language": "python",
   "sourceType": "notebook"
  },
  "kernelspec": {
   "display_name": "base",
   "language": "python",
   "name": "python3"
  },
  "language_info": {
   "codemirror_mode": {
    "name": "ipython",
    "version": 3
   },
   "file_extension": ".py",
   "mimetype": "text/x-python",
   "name": "python",
   "nbconvert_exporter": "python",
   "pygments_lexer": "ipython3",
   "version": "3.9.17"
  }
 },
 "nbformat": 4,
 "nbformat_minor": 4
}
